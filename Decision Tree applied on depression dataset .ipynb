{
 "cells": [
  {
   "cell_type": "markdown",
   "metadata": {},
   "source": [
    "## Import Libraries"
   ]
  },
  {
   "cell_type": "code",
   "execution_count": 1,
   "metadata": {},
   "outputs": [],
   "source": [
    "from sklearn.tree import DecisionTreeClassifier\n",
    "from sklearn.model_selection import train_test_split \n",
    "from sklearn.metrics import accuracy_score\n",
    "import pandas as pd\n",
    "import numpy as np\n",
    "import matplotlib.pyplot as plt\n"
   ]
  },
  {
   "cell_type": "markdown",
   "metadata": {},
   "source": [
    "## Loading Dataset"
   ]
  },
  {
   "cell_type": "code",
   "execution_count": 2,
   "metadata": {},
   "outputs": [],
   "source": [
    "df=pd.read_csv(\"MLData.csv\")\n",
    "columns=[\"Timestamp\",\"Level\",\"Class\",\"Scale\",\"Gender\",\"Age\",\"Residence\",\"RelationshipStatus\",\"FinanceState\",\"CopeWithInstitute\",\"RelationWithFamily\",\"Pressure\",\"AcademicResult\",\"LivingPlace\",\"SupportedBy\",\"SocialMediaIn6\",\"InferiorityComplex\",\"MealSatisfaction\",\"Health\",\"OtherPositiveActivity\",\"SleepTime\"]\n",
    "df.columns=columns\n",
    "df = df.sample(frac=1).reset_index(drop=True)"
   ]
  },
  {
   "cell_type": "code",
   "execution_count": 4,
   "metadata": {},
   "outputs": [],
   "source": [
    "Class_Status = df[\"Class\"]\n",
    "Class_Scale = df[\"Scale\"]\n",
    "df.drop([\"Class\",\"Scale\",\"Timestamp\"],axis=1,inplace=True)"
   ]
  },
  {
   "cell_type": "markdown",
   "metadata": {},
   "source": [
    "## Encoder"
   ]
  },
  {
   "cell_type": "code",
   "execution_count": 5,
   "metadata": {},
   "outputs": [],
   "source": [
    "columns=[\"Level\",\"Gender\",\"Residence\",\"RelationshipStatus\",\"FinanceState\",\"CopeWithInstitute\",\"RelationWithFamily\",\"Pressure\",\"AcademicResult\",\"LivingPlace\",\"SupportedBy\",\"SocialMediaIn6\",\"InferiorityComplex\",\"MealSatisfaction\",\"Health\",\"OtherPositiveActivity\"]\n",
    "df_Enc = pd.get_dummies(df,columns = columns)"
   ]
  },
  {
   "cell_type": "markdown",
   "metadata": {},
   "source": [
    "## Own Implementation"
   ]
  },
  {
   "cell_type": "code",
   "execution_count": 6,
   "metadata": {},
   "outputs": [],
   "source": [
    "x_train, x_test, y_train, y_test= train_test_split(df_Enc, Class_Status, test_size= 0.1, random_state=1) "
   ]
  },
  {
   "cell_type": "code",
   "execution_count": 8,
   "metadata": {},
   "outputs": [
    {
     "name": "stderr",
     "output_type": "stream",
     "text": [
      "F:\\Academic\\Level 4 term I\\CSE-464 Machine Learning (Sessional)\\Lab2 - Decision Tree\\DecisionTree.py:20: SettingWithCopyWarning: \n",
      "A value is trying to be set on a copy of a slice from a DataFrame.\n",
      "Try using .loc[row_indexer,col_indexer] = value instead\n",
      "\n",
      "See the caveats in the documentation: https://pandas.pydata.org/pandas-docs/stable/user_guide/indexing.html#returning-a-view-versus-a-copy\n",
      "  data[\"label\"]=y_train\n"
     ]
    },
    {
     "name": "stdout",
     "output_type": "stream",
     "text": [
      "Training Accuracy: 95.4954954954955%\n",
      "Testing Accuracy: 57.89473684210527%\n"
     ]
    }
   ],
   "source": [
    "from DecisionTree import DecisionTree \n",
    "dtf=DecisionTree()\n",
    "dtf.fit(x_train,y_train)\n",
    "y_pred = dtf.predict(x_train)\n",
    "train_acc = accuracy_score(y_train, y_pred)\n",
    "print(\"Training Accuracy: {}%\".format(train_acc*100))\n",
    "\n",
    "y_pred = dtf.predict(x_test)\n",
    "train_acc = accuracy_score(y_test, y_pred)\n",
    "print(\"Testing Accuracy: {}%\".format(train_acc*100))"
   ]
  },
  {
   "cell_type": "markdown",
   "metadata": {},
   "source": [
    "## Scikit Learn Decision Tree Classifier"
   ]
  },
  {
   "cell_type": "code",
   "execution_count": 9,
   "metadata": {},
   "outputs": [],
   "source": [
    "Class_Status_enc=np.array(Class_Status)\n",
    "Class_Scale_enc=np.array(Class_Scale)\n",
    "Class_Status_enc = pd.get_dummies(Class_Status_enc)"
   ]
  },
  {
   "cell_type": "code",
   "execution_count": 10,
   "metadata": {},
   "outputs": [],
   "source": [
    "x_train, x_test, y_train, y_test= train_test_split(df_Enc, Class_Status, test_size= 0.1, random_state=1) "
   ]
  },
  {
   "cell_type": "code",
   "execution_count": 11,
   "metadata": {},
   "outputs": [
    {
     "name": "stdout",
     "output_type": "stream",
     "text": [
      "Training Accuracy: 95.4954954954955%\n",
      "Testing Accuracy: 52.63157894736842%\n"
     ]
    }
   ],
   "source": [
    "dtf = DecisionTreeClassifier(criterion = \"entropy\")\n",
    "\n",
    "dtf.fit(x_train,y_train)\n",
    "\n",
    "y_pred = dtf.predict(x_train)\n",
    "train_acc = accuracy_score(y_train, y_pred)\n",
    "print(\"Training Accuracy: {}%\".format(train_acc*100))\n",
    "\n",
    "y_pred = dtf.predict(x_test)\n",
    "train_acc = accuracy_score(y_test, y_pred)\n",
    "print(\"Testing Accuracy: {}%\".format(train_acc*100))"
   ]
  },
  {
   "cell_type": "markdown",
   "metadata": {},
   "source": [
    "## Cross Validation"
   ]
  },
  {
   "cell_type": "code",
   "execution_count": 39,
   "metadata": {},
   "outputs": [
    {
     "name": "stdout",
     "output_type": "stream",
     "text": [
      "[0.54032258 0.45967742 0.5203252 ]\n",
      "Average Test Acc = 0.5067750677506776\n"
     ]
    }
   ],
   "source": [
    "from sklearn.model_selection import cross_validate\n",
    "dtf = DecisionTreeClassifier(criterion = \"entropy\")\n",
    "cv_results = cross_validate(dtf, df_Enc, Class_Status_enc, cv=3)\n",
    "sorted(cv_results.keys())\n",
    "print(cv_results[\"test_score\"])\n",
    "print(\"Average Test Acc = {}\".format(np.average(cv_results['test_score'])))"
   ]
  }
 ],
 "metadata": {
  "kernelspec": {
   "display_name": "Python 3",
   "language": "python",
   "name": "python3"
  },
  "language_info": {
   "codemirror_mode": {
    "name": "ipython",
    "version": 3
   },
   "file_extension": ".py",
   "mimetype": "text/x-python",
   "name": "python",
   "nbconvert_exporter": "python",
   "pygments_lexer": "ipython3",
   "version": "3.6.7"
  }
 },
 "nbformat": 4,
 "nbformat_minor": 4
}
